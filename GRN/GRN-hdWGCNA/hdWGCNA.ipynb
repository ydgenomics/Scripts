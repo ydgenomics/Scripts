{
 "cells": [
  {
   "cell_type": "code",
   "execution_count": null,
   "id": "104826e2",
   "metadata": {
    "vscode": {
     "languageId": "plaintext"
    }
   },
   "outputs": [],
   "source": [
    "# single-cell analysis package\n",
    "library(Seurat)\n",
    "\n",
    "# plotting and data science packages\n",
    "library(tidyverse)\n",
    "library(cowplot)\n",
    "library(patchwork)\n",
    "\n",
    "# co-expression network analysis packages:\n",
    "library(WGCNA)\n",
    "library(hdWGCNA)\n",
    "\n",
    "# using the cowplot theme for ggplot\n",
    "theme_set(theme_cowplot())\n",
    "\n",
    "# set random seed for reproducibility\n",
    "set.seed(12345)\n",
    "\n",
    "# optionally enable multithreading\n",
    "enableWGCNAThreads(nThreads = 8)\n",
    "\n",
    "# load the Zhou et al snRNA-seq dataset\n",
    "seurat_obj <- readRDS('Zhou_2020_control.rds')"
   ]
  },
  {
   "cell_type": "markdown",
   "id": "a3932365",
   "metadata": {},
   "source": [
    "This Seurat object was originally created using Seruat v4. If you are using Seurat v5, please run this additional command."
   ]
  },
  {
   "cell_type": "code",
   "execution_count": null,
   "id": "29fc52fe",
   "metadata": {
    "vscode": {
     "languageId": "plaintext"
    }
   },
   "outputs": [],
   "source": [
    "seurat_obj <- SeuratObject::UpdateSeuratObject(seurat_obj)"
   ]
  },
  {
   "cell_type": "markdown",
   "id": "04d38420",
   "metadata": {},
   "source": [
    "Here we will plot the UMAP colored by cell type just to check that we have loaded the data correctly, and to make sure that we have grouped cells into clusters and cell types."
   ]
  },
  {
   "cell_type": "code",
   "execution_count": null,
   "id": "66a5fa29",
   "metadata": {
    "vscode": {
     "languageId": "plaintext"
    }
   },
   "outputs": [],
   "source": [
    "p <- DimPlot(seurat_obj, group.by='cell_type', label=TRUE) +\n",
    "   umap_theme() + ggtitle('Zhou et al Control Cortex') + NoLegend()\n",
    "\n",
    "p"
   ]
  },
  {
   "cell_type": "markdown",
   "id": "6b03a10b",
   "metadata": {},
   "source": [
    "# Set up Seurat object for WGCNA\n",
    "Before running hdWGCNA, we first have to set up the Seurat object. Most of the information computed by hdWGCNA is stored in the Seurat object’s @misc slot, and all of this information can be retrieved by various getter and setter functions. A single Seurat object can hold multiple hdWGCNA experiments, for example representing different cell types in the same single-cell dataset. Notably, since we consider hdWGCNA to be a downstream data analysis step, we do not support subsetting the Seurat object after SetupForWGCNA has been run.\n",
    "\n",
    "Here we will set up the Seurat object using the SetupForWGCNA function, specifying the name of the hdWGNCA experiment. This function also selects the genes that will be used for WGCNA. The user can select genes using three different approaches using the gene_select parameter:\n",
    "\n",
    "    variable: use the genes stored in the Seurat object’s VariableFeatures.\n",
    "    fraction: use genes that are expressed in a certain fraction of cells for in the whole dataset or in each group of cells, specified by group.by.\n",
    "    custom: use genes that are specified in a custom list.\n",
    "In this example, we will select genes that are expressed in at least 5% of cells in this dataset, and we will name our hdWGCNA experiment “tutorial”."
   ]
  },
  {
   "cell_type": "code",
   "execution_count": null,
   "id": "89746f72",
   "metadata": {
    "vscode": {
     "languageId": "plaintext"
    }
   },
   "outputs": [],
   "source": [
    "seurat_obj <- SetupForWGCNA(\n",
    "  seurat_obj,\n",
    "  gene_select = \"fraction\", # the gene selection approach\n",
    "  fraction = 0.05, # fraction of cells that a gene needs to be expressed in order to be included\n",
    "  wgcna_name = \"tutorial\" # the name of the hdWGCNA experiment\n",
    ")"
   ]
  },
  {
   "cell_type": "markdown",
   "id": "35943ba8",
   "metadata": {},
   "source": [
    "# Construct metacells\n",
    "After we have set up our Seurat object, the first step in running the hdWGCNA pipeine in hdWGCNA is to construct metacells from the single-cell dataset. Briefly, metacells are aggregates of small groups of similar cells originating from the same biological sample of origin. The k-Nearest Neighbors (KNN) algorithm is used to identify groups of similar cells to aggregate, and then the average or summed expression of these cells is computed, thus yielding a metacell gene expression matrix. The sparsity of the metacell expression matrix is considerably reduced when compared to the original expression matrix, and therefore it is preferable to use. We were originally motivated to use metacells in place of the original single cells because correlation network approaches such as WGCNA are sensitive to data sparsity.\n",
    "\n",
    "hdWGCNA includes a function MetacellsByGroups to construct metacell expression matrices given a single-cell dataset. This function constructs a new Seurat object for the metacell dataset which is stored internally in the hdWGCNA experiment. The group.by parameter determines which groups metacells will be constructed in. We only want to construct metacells from cells that came from the same biological sample of origin, so it is critical to pass that information to hdWGCNA via the group.by parameter. Additionally, we usually construct metacells for each cell type separately. Thus, in this example, we are grouping by Sample and cell_type to achieve the desired result.\n",
    "\n",
    "The number of cells to be aggregated k should be tuned based on the size of the input dataset, in general a lower number for k can be used for small datasets. We generally use k values between 20 and 75. The dataset used for this tutorial has 40,039 cells, ranging from 890 to 8,188 in each biological sample, and here we used k=25. The amount of allowable overlap between metacells can be tuned using the max_shared argument. There should be a range of K values that are suitable for reducing the sparsity while retaining cellular heterogeneity for a given dataset, rather than a single optimal value.\n",
    "\n",
    "Note: we have found that the metacell aggregation approach does not yield good results for extremely underrepresented cell types. For example, in this dataset, the brain vascular cells (pericytes and endothelial cells) were the least represented, and we have excluded them from this analysis. MetacellsByGroups has a parameter min_cells to exclude groups that are smaller than a specified number of cells. Errors are likely to arise if the selected value for min_cells is too low.\n",
    "\n",
    "Here we construct metacells and normalize the resulting expression matrix using the following code:"
   ]
  },
  {
   "cell_type": "code",
   "execution_count": null,
   "id": "d242c0d4",
   "metadata": {
    "vscode": {
     "languageId": "plaintext"
    }
   },
   "outputs": [],
   "source": [
    "# construct metacells  in each group\n",
    "seurat_obj <- MetacellsByGroups(\n",
    "  seurat_obj = seurat_obj,\n",
    "  group.by = c(\"cell_type\", \"Sample\"), # specify the columns in seurat_obj@meta.data to group by\n",
    "  reduction = 'harmony', # select the dimensionality reduction to perform KNN on\n",
    "  k = 25, # nearest-neighbors parameter\n",
    "  max_shared = 10, # maximum number of shared cells between two metacells\n",
    "  ident.group = 'cell_type' # set the Idents of the metacell seurat object\n",
    ")\n",
    "\n",
    "# normalize metacell expression matrix:\n",
    "seurat_obj <- NormalizeMetacells(seurat_obj)"
   ]
  },
  {
   "cell_type": "markdown",
   "id": "84d3c1b7",
   "metadata": {},
   "source": [
    "# Optional: Process the Metacell Seurat Object\n",
    "Since we store the Metacell expression information as its own Seurat object, we can run Seurat functions on the metacell data. We can get the metacell object from the hdWGCNA experiment using GetMetacellObject."
   ]
  },
  {
   "cell_type": "code",
   "execution_count": null,
   "id": "86ef3f7b",
   "metadata": {
    "vscode": {
     "languageId": "plaintext"
    }
   },
   "outputs": [],
   "source": [
    "metacell_obj <- GetMetacellObject(seurat_obj)"
   ]
  },
  {
   "cell_type": "markdown",
   "id": "f75845f1",
   "metadata": {},
   "source": [
    "Additionally, we have included a few wrapper functions to apply the Seurat workflow to the metacell object within the hdWGCNA experiment. Here we apply these wrapper functions to process the metacell object and visualize the aggregated expression profiles in two dimensions with UMAP."
   ]
  },
  {
   "cell_type": "code",
   "execution_count": null,
   "id": "d8a12ca1",
   "metadata": {
    "vscode": {
     "languageId": "plaintext"
    }
   },
   "outputs": [],
   "source": [
    "seurat_obj <- NormalizeMetacells(seurat_obj)\n",
    "seurat_obj <- ScaleMetacells(seurat_obj, features=VariableFeatures(seurat_obj))\n",
    "seurat_obj <- RunPCAMetacells(seurat_obj, features=VariableFeatures(seurat_obj))\n",
    "seurat_obj <- RunHarmonyMetacells(seurat_obj, group.by.vars='Sample')\n",
    "seurat_obj <- RunUMAPMetacells(seurat_obj, reduction='harmony', dims=1:15)\n",
    "\n",
    "\n",
    "p1 <- DimPlotMetacells(seurat_obj, group.by='cell_type') + umap_theme() + ggtitle(\"Cell Type\")\n",
    "p2 <- DimPlotMetacells(seurat_obj, group.by='Sample') + umap_theme() + ggtitle(\"Sample\")\n",
    "\n",
    "p1 | p2"
   ]
  },
  {
   "cell_type": "markdown",
   "id": "2e4b6892",
   "metadata": {},
   "source": [
    "# Co-expression network analysis\n",
    "In this section we discuss how to perform co-expression network analysis with hdWGNCA on the inhibitory neuron (INH) cells in our example dataset.\n",
    "\n",
    "Set up the expression matrix\n",
    "Here we specify the expression matrix that we will use for network analysis. Since We only want to include the inhibitory neurons, so we have to subset our expression data prior to constructing the network. hdWGCNA includes the SetDatExpr function to store the transposed expression matrix for a given group of cells that will be used for downstream network analysis. The metacell expression matrix is used by default (use_metacells=TRUE), but hdWGCNA does allow for the single-cell expression matrix to be used if desired.. This function allows the user to specify which slot/layer to take the expression matrix from, for example if the user wanted to apply SCTransform normalization instead of NormalizeData."
   ]
  },
  {
   "cell_type": "code",
   "execution_count": null,
   "id": "b79b8afd",
   "metadata": {
    "vscode": {
     "languageId": "plaintext"
    }
   },
   "outputs": [],
   "source": [
    "seurat_obj <- SetDatExpr(\n",
    "  seurat_obj,\n",
    "  group_name = \"INH\", # the name of the group of interest in the group.by column\n",
    "  group.by='cell_type', # the metadata column containing the cell type info. This same column should have also been used in MetacellsByGroups\n",
    "  assay = 'RNA', # using RNA assay\n",
    "  layer = 'data' # using normalized data\n",
    ")"
   ]
  },
  {
   "cell_type": "markdown",
   "id": "1b1b6a99",
   "metadata": {},
   "source": [
    "**Selecting more than one group**:\n",
    "Suppose that you want to perform co-expression network analysis on more than one cell type or cluster simultaneously. SetDatExpr can be run with slighly different settings to achieve the desired result by passing a character vector to the group_name parameter."
   ]
  },
  {
   "cell_type": "code",
   "execution_count": null,
   "id": "734b324b",
   "metadata": {
    "vscode": {
     "languageId": "plaintext"
    }
   },
   "outputs": [],
   "source": [
    "seurat_obj <- SetDatExpr(\n",
    "  seurat_obj,\n",
    "  group_name = c(\"INH\", \"EX\"),\n",
    "  group.by='cell_type'\n",
    ")"
   ]
  },
  {
   "cell_type": "markdown",
   "id": "a89560b7",
   "metadata": {},
   "source": [
    "# Select soft-power threshold\n",
    "Next we will select the “soft power threshold”. This is an extremely important step in the hdWGNCA pipleine (and for vanilla WGCNA). hdWGCNA constructs a gene-gene correlation adjacency matrix to infer co-expression relationships between genes. The correlations are raised to a power to reduce the amount of noise present in the correlation matrix, thereby retaining the strong connections and removing the weak connections. Therefore, it is critical to determine a proper value for the soft power threshold.\n",
    "\n",
    "We include a function TestSoftPowers to perform a parameter sweep for different soft power thresholds. This function helps us to guide our choice in a soft power threshold for constructing the co-expression network by inspecting the resulting network topology for different power values. The co-expression network should have a [scale-free topology](https://en.wikipedia.org/wiki/Scale-free_network), therefore the TestSoftPowers function models how closely the co-expression network resembles a scale-free graph at different soft power thresholds. Furthermore, we include a function PlotSoftPowers to visualize the results of the parameter sweep.\n",
    "\n",
    "The following code performs the parameter sweep and outputs a summary figure."
   ]
  },
  {
   "cell_type": "code",
   "execution_count": null,
   "id": "f22d93fb",
   "metadata": {
    "vscode": {
     "languageId": "plaintext"
    }
   },
   "outputs": [],
   "source": [
    "# Test different soft powers:\n",
    "seurat_obj <- TestSoftPowers(\n",
    "  seurat_obj,\n",
    "  networkType = 'signed' # you can also use \"unsigned\" or \"signed hybrid\"\n",
    ")\n",
    "\n",
    "# plot the results:\n",
    "plot_list <- PlotSoftPowers(seurat_obj)\n",
    "\n",
    "# assemble with patchwork\n",
    "wrap_plots(plot_list, ncol=2)"
   ]
  },
  {
   "cell_type": "markdown",
   "id": "89ee4df3",
   "metadata": {},
   "source": [
    "The general guidance for WGCNA and hdWGCNA is to pick the lowest soft power threshold that has a Scale Free Topology Model Fit greater than or equal to 0.8, so in this case we would select our soft power threshold as 9. Later on, the ConstructNetwork will automatically select the soft power threshold if the user does not provide one.\n",
    "\n",
    "Tthe output table from the parameter sweep is stored in the hdWGCNA experiment and can be accessed using the `GetPowerTable` function for further inspection:"
   ]
  },
  {
   "cell_type": "code",
   "execution_count": null,
   "id": "78dd668a",
   "metadata": {
    "vscode": {
     "languageId": "plaintext"
    }
   },
   "outputs": [],
   "source": [
    "power_table <- GetPowerTable(seurat_obj)\n",
    "head(power_table)"
   ]
  },
  {
   "cell_type": "markdown",
   "id": "7a3204e2",
   "metadata": {},
   "source": [
    "# Construct co-expression network\n",
    "We now have everything that we need to construct our co-expression network. Here we use the hdWGCNA function ConstructNetwork, which calls the WGCNA function blockwiseConsensusModules under the hood. This function has quite a few parameters to play with if you are an advanced user, but we have selected default parameters that work well with many single-cell datasets. The parameters for blockwiseConsensusModules can be passed directly to ConstructNetwork with the same parameter names.\n",
    "\n",
    "The following code construtcts the co-expression network using the soft power threshold selected above:"
   ]
  },
  {
   "cell_type": "code",
   "execution_count": null,
   "id": "63987641",
   "metadata": {
    "vscode": {
     "languageId": "plaintext"
    }
   },
   "outputs": [],
   "source": [
    "# construct co-expression network:\n",
    "seurat_obj <- ConstructNetwork(\n",
    "  seurat_obj,\n",
    "  tom_name = 'INH' # name of the topoligical overlap matrix written to disk\n",
    ")"
   ]
  },
  {
   "cell_type": "markdown",
   "id": "6a920ff3",
   "metadata": {},
   "source": [
    "hdWGCNA also includes a function PlotDendrogram to visualize the WGCNA dendrogram, a common visualization to show the different co-expression modules resulting from the network analysis. Each leaf on the dendrogram represents a single gene, and the color at the bottom indicates the co-expression module assignment.\n",
    "\n",
    "**Importantly, the “grey” module consists of genes that were not grouped into any co-expression module. The grey module should be ignored for all downstream analysis and interpretation.**"
   ]
  },
  {
   "cell_type": "code",
   "execution_count": null,
   "id": "be74f85a",
   "metadata": {
    "vscode": {
     "languageId": "plaintext"
    }
   },
   "outputs": [],
   "source": [
    "PlotDendrogram(seurat_obj, main='INH hdWGCNA Dendrogram')"
   ]
  },
  {
   "cell_type": "markdown",
   "id": "66f92f72",
   "metadata": {},
   "source": [
    "# Optional: inspect the topoligcal overlap matrix (TOM)\n",
    "hdWGCNA represents the co-expression network as a topoligcal overlap matrix (TOM). This is a square matrix of genes by genes, where each value is the topoligcal overlap between the genes. The TOM is written to the disk when running ConstructNetwork, and we can load it into R using the GetTOM function. Advanced users may wish to inspect the TOM for custom downstream analyses."
   ]
  },
  {
   "cell_type": "code",
   "execution_count": null,
   "id": "a87f5eda",
   "metadata": {
    "vscode": {
     "languageId": "plaintext"
    }
   },
   "outputs": [],
   "source": [
    "TOM <- GetTOM(seurat_obj)"
   ]
  },
  {
   "cell_type": "markdown",
   "id": "5f1222e0",
   "metadata": {},
   "source": [
    "# Module Eigengenes and Connectivity\n",
    "In this section we will cover how to compute module eigengenes in single cells, and how to compute the eigengene-based connectivity for each gene.\n",
    "\n",
    "# Compute harmonized module eigengenes\n",
    "Module Eigengenes (MEs) are a commonly used metric to summarize the gene expression profile of an entire co-expression module. Briefly, module eigengenes are computed by performing principal component analysis (PCA) on the subset of the gene expression matrix comprising each module. The first PC of each of these PCA matrices are the MEs.\n",
    "\n",
    "Dimensionality reduction techniques are a very hot topic in single-cell genomics. It is well known that technical artifacts can muddy the analysis of single-cell datasets, and over the years there have been many methods that aim to reduce the effects of these artifacts. Therefore it stands to reason that MEs would be subject to these technical artifacts as well, and hdWGCNA seeks to alleviate these effects.\n",
    "\n",
    "hdWGCNA includes a function ModuleEigengenes to compute module eigengenes in single cells. Additionally, we allow the user to apply Harmony batch correction to the MEs, yielding harmonized module eigengenes (hMEs). The following code performs the module eigengene computation harmonizing by the Sample of origin using the group.by.vars parameter."
   ]
  },
  {
   "cell_type": "code",
   "execution_count": null,
   "id": "18246a9d",
   "metadata": {
    "vscode": {
     "languageId": "plaintext"
    }
   },
   "outputs": [],
   "source": [
    "# need to run ScaleData first or else harmony throws an error:\n",
    "#seurat_obj <- ScaleData(seurat_obj, features=VariableFeatures(seurat_obj))\n",
    "\n",
    "# compute all MEs in the full single-cell dataset\n",
    "seurat_obj <- ModuleEigengenes(\n",
    " seurat_obj,\n",
    " group.by.vars=\"Sample\"\n",
    ")"
   ]
  },
  {
   "cell_type": "markdown",
   "id": "7444f1bc",
   "metadata": {},
   "source": [
    "The ME matrices are stored as a matrix where each row is a cell and each column is a module. This matrix can be extracted from the Seurat object using the GetMEs function, which retrieves the hMEs by default."
   ]
  },
  {
   "cell_type": "code",
   "execution_count": null,
   "id": "bb69e14c",
   "metadata": {
    "vscode": {
     "languageId": "plaintext"
    }
   },
   "outputs": [],
   "source": [
    "# harmonized module eigengenes:\n",
    "hMEs <- GetMEs(seurat_obj)\n",
    "\n",
    "# module eigengenes:\n",
    "MEs <- GetMEs(seurat_obj, harmonized=FALSE)"
   ]
  },
  {
   "cell_type": "markdown",
   "id": "a26b925f",
   "metadata": {},
   "source": [
    "# Compute module connectivity\n",
    "In co-expression network analysis, we often want to focus on the “hub genes”, those which are highly connected within each module. Therefore we wish to determine the eigengene-based connectivity, also known as kME, of each gene. hdWGCNA includes the `ModuleConnectivity` to compute the kME values in the full single-cell dataset, rather than the metacell dataset. This function essentially computes pairwise correlations between genes and module eigengenes. kME can be computed for all cells in the dataset, but we recommend computing kME in the cell type or group that was previously used to run `ConstructNetwork`."
   ]
  },
  {
   "cell_type": "code",
   "execution_count": null,
   "id": "c5fd465b",
   "metadata": {
    "vscode": {
     "languageId": "plaintext"
    }
   },
   "outputs": [],
   "source": [
    "# compute eigengene-based connectivity (kME):\n",
    "seurat_obj <- ModuleConnectivity(\n",
    "  seurat_obj,\n",
    "  group.by = 'cell_type', group_name = 'INH'\n",
    ")"
   ]
  },
  {
   "cell_type": "markdown",
   "id": "001d7051",
   "metadata": {},
   "source": [
    "For convenience, we re-name the hdWGCNA modules to indicate that they are from the inhibitory neuron group. More information about renaming modules can be found in the [module customization tutorial](https://smorabit.github.io/hdWGCNA/articles/customization.html)."
   ]
  },
  {
   "cell_type": "code",
   "execution_count": null,
   "id": "cb77dc8c",
   "metadata": {
    "vscode": {
     "languageId": "plaintext"
    }
   },
   "outputs": [],
   "source": [
    "# rename the modules\n",
    "seurat_obj <- ResetModuleNames(\n",
    "  seurat_obj,\n",
    "  new_name = \"INH-M\"\n",
    ")"
   ]
  },
  {
   "cell_type": "markdown",
   "id": "fa9a43e2",
   "metadata": {},
   "source": [
    "We can visualize the genes in each module ranked by kME using the PlotKMEs function."
   ]
  },
  {
   "cell_type": "code",
   "execution_count": null,
   "id": "89ccda6b",
   "metadata": {
    "vscode": {
     "languageId": "plaintext"
    }
   },
   "outputs": [],
   "source": [
    "# plot genes ranked by kME for each module\n",
    "p <- PlotKMEs(seurat_obj, ncol=5)\n",
    "\n",
    "p"
   ]
  },
  {
   "cell_type": "markdown",
   "id": "56078bc6",
   "metadata": {},
   "source": [
    "# Getting the module assignment table\n",
    "hdWGCNA allows for easy access of the module assignment table using the GetModules function. This table consists of three columns: gene_name stores the gene’s symbol or ID, module stores the gene’s module assignment, and color stores a color mapping for each module, which is used in many downstream plotting steps. If ModuleConnectivity has been called on this hdWGCNA experiment, this table will have additional columns for the kME of each module."
   ]
  },
  {
   "cell_type": "code",
   "execution_count": null,
   "id": "2c07646a",
   "metadata": {
    "vscode": {
     "languageId": "plaintext"
    }
   },
   "outputs": [],
   "source": [
    "# get the module assignment table:\n",
    "modules <- GetModules(seurat_obj) %>% subset(module != 'grey')\n",
    "\n",
    "# show the first 6 columns:\n",
    "head(modules[,1:6])"
   ]
  },
  {
   "cell_type": "markdown",
   "id": "ef6930cc",
   "metadata": {},
   "source": [
    "A table of the top N hub genes sorted by kME can be extracted using the GetHubGenes function."
   ]
  },
  {
   "cell_type": "code",
   "execution_count": null,
   "id": "fc2378f1",
   "metadata": {
    "vscode": {
     "languageId": "plaintext"
    }
   },
   "outputs": [],
   "source": [
    "# get hub genes\n",
    "hub_df <- GetHubGenes(seurat_obj, n_hubs = 10)\n",
    "\n",
    "head(hub_df)"
   ]
  },
  {
   "cell_type": "markdown",
   "id": "76134de8",
   "metadata": {},
   "source": [
    "This wraps up the critical analysis steps for hdWGCNA, so remember to save your output."
   ]
  },
  {
   "cell_type": "code",
   "execution_count": null,
   "id": "b38a26df",
   "metadata": {
    "vscode": {
     "languageId": "plaintext"
    }
   },
   "outputs": [],
   "source": [
    "saveRDS(seurat_obj, file='hdWGCNA_object.rds')"
   ]
  },
  {
   "cell_type": "markdown",
   "id": "b0c804ca",
   "metadata": {},
   "source": [
    "# Compute hub gene signature scores\n",
    "Gene scoring analysis is a popular method in single-cell transcriptomics for computing a score for the overall signature of a set of genes. We can use these methods as alternatives to module eigengenes. hdWGCNA includes the function ModuleExprScore to compute gene scores for a give number of genes for each module, using either the UCell or Seurat algorithm."
   ]
  },
  {
   "cell_type": "code",
   "execution_count": null,
   "id": "2b5856f9",
   "metadata": {
    "vscode": {
     "languageId": "plaintext"
    }
   },
   "outputs": [],
   "source": [
    "# compute gene scoring for the top 25 hub genes by kME for each module\n",
    "# with UCell method\n",
    "library(UCell)\n",
    "seurat_obj <- ModuleExprScore(\n",
    "  seurat_obj,\n",
    "  n_genes = 25,\n",
    "  method='UCell'\n",
    ")"
   ]
  },
  {
   "cell_type": "markdown",
   "id": "fb345610",
   "metadata": {},
   "source": [
    "# Basic Visualization\n",
    "Here we showcase some of the basic visualization capabilities of hdWGCNA, and we demonstrate how to use some of Seurat’s built-in plotting tools to visualize our hdWGCNA results. Note that we have a separate tutorial for visualization of the hdWGCNA networks.\n",
    "\n",
    "# Module Feature Plots\n",
    "FeaturePlot is a commonly used Seurat visualization to show a feature of interest directly on the dimensionality reduction. hdWGCNA includes the ModuleFeaturePlot function to consruct FeaturePlots for each co-expression module colored by each module’s uniquely assigned color."
   ]
  },
  {
   "cell_type": "code",
   "execution_count": null,
   "id": "a52d78bf",
   "metadata": {
    "vscode": {
     "languageId": "plaintext"
    }
   },
   "outputs": [],
   "source": [
    "# make a featureplot of hMEs for each module\n",
    "plot_list <- ModuleFeaturePlot(\n",
    "  seurat_obj,\n",
    "  features='hMEs', # plot the hMEs\n",
    "  order=TRUE # order so the points with highest hMEs are on top\n",
    ")\n",
    "\n",
    "# stitch together with patchwork\n",
    "wrap_plots(plot_list, ncol=6)"
   ]
  },
  {
   "cell_type": "markdown",
   "id": "d00a05aa",
   "metadata": {},
   "source": [
    "We can also plot the hub gene signature score using the same function:"
   ]
  },
  {
   "cell_type": "code",
   "execution_count": null,
   "id": "679025b0",
   "metadata": {
    "vscode": {
     "languageId": "plaintext"
    }
   },
   "outputs": [],
   "source": [
    "# make a featureplot of hub scores for each module\n",
    "plot_list <- ModuleFeaturePlot(\n",
    "  seurat_obj,\n",
    "  features='scores', # plot the hub gene scores\n",
    "  order='shuffle', # order so cells are shuffled\n",
    "  ucell = TRUE # depending on Seurat vs UCell for gene scoring\n",
    ")\n",
    "\n",
    "# stitch together with patchwork\n",
    "wrap_plots(plot_list, ncol=6)"
   ]
  },
  {
   "cell_type": "markdown",
   "id": "fdb9c681",
   "metadata": {},
   "source": [
    "We can also use a radar plot to visualize the relative expression level of each module across different cell groupings. Here we use the function ModuleRadarPlot to visualize the expression of these modules in the INH subclusters."
   ]
  },
  {
   "cell_type": "code",
   "execution_count": null,
   "id": "2981476c",
   "metadata": {
    "vscode": {
     "languageId": "plaintext"
    }
   },
   "outputs": [],
   "source": [
    "seurat_obj$cluster <- do.call(rbind, strsplit(as.character(seurat_obj$annotation), ' '))[,1]\n",
    "\n",
    "ModuleRadarPlot(\n",
    "  seurat_obj,\n",
    "  group.by = 'cluster',\n",
    "  barcodes = seurat_obj@meta.data %>% subset(cell_type == 'INH') %>% rownames(),\n",
    "  axis.label.size=4,\n",
    "  grid.label.size=4\n",
    ")"
   ]
  },
  {
   "cell_type": "markdown",
   "id": "afd017c9",
   "metadata": {},
   "source": [
    "Here we can easily visualize which modules are shared across different INH subtypes, like module INH-M1, as well as modules that are expressed more specifically in one subtype like module INH-M18. For this type of plot we do not recommend trying to visualize too many cell groups at once.\n",
    "\n",
    "Expand to see Module Correlogram\n",
    "hdWGCNA includes the ModuleCorrelogram function to visualize the correlation between each module based on their hMEs, MEs, or hub gene scores using the R package corrplot."
   ]
  },
  {
   "cell_type": "code",
   "execution_count": null,
   "id": "738f04d3",
   "metadata": {
    "vscode": {
     "languageId": "plaintext"
    }
   },
   "outputs": [],
   "source": [
    "# plot module correlagram\n",
    "ModuleCorrelogram(seurat_obj)"
   ]
  },
  {
   "cell_type": "markdown",
   "id": "5976404c",
   "metadata": {},
   "source": [
    "# Plotting beyond the hdWGCNA package\n",
    "Sometimes we want to make a custom visualization that may not be included in hdWGCNA. Fortunately, R has an incredible amount of different data visualization packages to take advantage of. The base Seurat plotting functions are also great for visualizing hdWGCNA outputs. Here is a simple example where we visualize the MEs using the Seurat DotPlot function. The key to using Seurat’s plotting functions to visualize the hdWGCNA data is to add it into the Seurat object’s `@meta.data` slot."
   ]
  },
  {
   "cell_type": "code",
   "execution_count": null,
   "id": "7e278561",
   "metadata": {
    "vscode": {
     "languageId": "plaintext"
    }
   },
   "outputs": [],
   "source": [
    "# get hMEs from seurat object\n",
    "MEs <- GetMEs(seurat_obj, harmonized=TRUE)\n",
    "modules <- GetModules(seurat_obj)\n",
    "mods <- levels(modules$module); mods <- mods[mods != 'grey']\n",
    "\n",
    "# add hMEs to Seurat meta-data:\n",
    "seurat_obj@meta.data <- cbind(seurat_obj@meta.data, MEs)"
   ]
  },
  {
   "cell_type": "markdown",
   "id": "d6452313",
   "metadata": {},
   "source": [
    "Now we can easily use Seurat’s DotPlot function:"
   ]
  },
  {
   "cell_type": "code",
   "execution_count": null,
   "id": "a99eea36",
   "metadata": {
    "vscode": {
     "languageId": "plaintext"
    }
   },
   "outputs": [],
   "source": [
    "# plot with Seurat's DotPlot function\n",
    "p <- DotPlot(seurat_obj, features=mods, group.by = 'cell_type')\n",
    "\n",
    "# flip the x/y axes, rotate the axis labels, and change color scheme:\n",
    "p <- p +\n",
    "  RotatedAxis() +\n",
    "  scale_color_gradient2(high='red', mid='grey95', low='blue')\n",
    "\n",
    "# plot output\n",
    "p"
   ]
  },
  {
   "cell_type": "markdown",
   "id": "8c0c8600",
   "metadata": {},
   "source": [
    "Next steps\n",
    "Now that you have constructed a co-expression network and identified gene modules, there are many downstream analysis tasks which you can take advantage of within hdWGCNA. To provide more depth to your co-expression modules, we encourage you to explore the network visualization tutorial and the enrichment analysis tutorial.\n",
    "\n",
    "    Network visualization tutorial\n",
    "    Enrichment tutorial\n",
    "\n",
    "To compare different biological conditions using hdWGCNA, check out the following tutorials.\n",
    "\n",
    "    Differential module eigengene (DME) tutorial\n",
    "    Module preservation tutorial\n",
    "    Module-trait correlation tutorial\n",
    "For more advanced analysis, such as Transcription factor regulatory network analysis, please check out the following tutorials.\n",
    "\n",
    "    Transcription factor regulatory network analysis tutorial\n",
    "    Protein-protein interaction tutorial\n",
    "    Consensus network analysis tutorial\n",
    "    For those interested in running hdWGCNA using pseudobulk replicates rather than metacells, please check out this tutorial.\n",
    "\n",
    "hdWGCNA with pseudobulk tutorial"
   ]
  }
 ],
 "metadata": {
  "language_info": {
   "name": "python"
  }
 },
 "nbformat": 4,
 "nbformat_minor": 5
}
