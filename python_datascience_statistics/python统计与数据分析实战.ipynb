{
 "cells": [
  {
   "cell_type": "markdown",
   "id": "3c81ec13",
   "metadata": {},
   "source": [
    "# Python统计与数据分析实战(250705)"
   ]
  },
  {
   "cell_type": "markdown",
   "id": "b40835e7",
   "metadata": {},
   "source": [
    "## 1. 流程\n",
    "2. 点估计\n",
    "  - 极大似然法\n",
    "  - 区间估计\n",
    "  \n",
    "3. 假设检验\n",
    "  - 基本原理\n",
    "  - 参数检验\n",
    "  \n",
    "4. 回归分析\n",
    "  - 一元线性\n",
    "- 多元线性\n",
    "- 逐步回归与模型选择\n",
    "- 回归诊断\n",
    "- 广义线性回归\n",
    "1. 方差分析\n",
    "2. 判别与聚类分析\n",
    "3. 主成分、因子与典型相关分析\n",
    "  - 时间序列分析\n",
    "  - 统计模拟\n",
    "\n",
    "8. 非参数统计\n",
    "  - 经验分布和分布探索\n",
    "  - 单样本非参数统计推断\n",
    "  - 两独立样本位置与尺度判断\n",
    "  - 多组数据位置推断\n",
    "\n",
    "## 2. 参考资料\n",
    "- 线性回归分析导论\n",
    "- 数理统计学导论\n",
    "- 线性代数及其应用\n",
    "- 统计学习导论 基于R导论\n",
    "- 非参数统计\n",
    "\n",
    "## 3. 课程基础\n",
    "- 3.1 数学基础\n",
    "  - 高等数学和微积分\n",
    "  - 线性代数(向量计算、矩阵计算、矩阵特征值分解与奇异值分解、……)\n",
    "  - 概率论与数理统计基础(……)\n",
    "- 3.2 Python\n",
    "  - 基本语法\n",
    "  - Numpy, Scipy\n",
    "  - Pandas\n",
    "  - Matplotlib\n",
    "  - StatsModels\n",
    "  - Sklearn\n",
    "  - 《Python核心编程》\n",
    "\n"
   ]
  },
  {
   "cell_type": "markdown",
   "id": "793417d7",
   "metadata": {},
   "source": [
    "# 配置windows下的python环境用于学习python数据科学\n",
    "```shell\n",
    "conda create -n cs python=3.11 -y\n",
    "conda activate cs\n",
    "pip config set global.index-url https://pypi.tuna.tsinghua.edu.cn/simple\n",
    "pip config set install.trusted-host pypi.tuna.tsinghua.edu.cn\n",
    "pip install numpy\n",
    "pip install scipy\n",
    "pip install pandas\n",
    "pip install statsmodels\n",
    "```"
   ]
  },
  {
   "cell_type": "markdown",
   "id": "eeada1f4",
   "metadata": {},
   "source": [
    "# 第一章 数据描述性分析"
   ]
  },
  {
   "cell_type": "markdown",
   "id": "9fa01937",
   "metadata": {},
   "source": [
    "### 1.1.1 位置与分散程度的度量\n",
    "  - 均值 mean\n",
    "  - 中位数 median\n",
    "  - 百分位数 percentile\n",
    "  - 方差 variance\n",
    "  - 标准差 standard deviation\n",
    "  - 标准误 standard error: 样本平均数之间的变异"
   ]
  },
  {
   "cell_type": "code",
   "execution_count": 7,
   "id": "335bc3b4",
   "metadata": {},
   "outputs": [],
   "source": [
    "import numpy as np \n",
    "import scipy.stats as st\n",
    "import pandas as pd\n",
    "# import statsmodels.api as sm \n",
    "import statsmodels as sm\n",
    "import matplotlib.pyplot as plt \n",
    "import seaborn as sns\n",
    "plt.rcParams['font.sans-serif'] = ['SimHei'] # 用来正常显示中文标签\n",
    "plt.rcParams['axes.unicode_minus'] = False # 用来正常显示负号\n",
    "\n",
    "weight = np.array([75.0, 64.0, 47.4, 66.9, 62.2, 62.2, 58.7,\n",
    "                     63.5, 66.6, 64.0, 57.0, 69.0, 56.9, 50.0, 72.0])"
   ]
  },
  {
   "cell_type": "code",
   "execution_count": 27,
   "id": "0b753032",
   "metadata": {},
   "outputs": [
    {
     "name": "stdout",
     "output_type": "stream",
     "text": [
      "62.36\n",
      "64.8\n",
      "63.5\n",
      "学生体重的分位数： [52.76 56.98 62.2  64.   67.32 75.  ]\n",
      "有偏估计的方差： 52.70773333333334\n",
      "无偏估计的方差： 56.47257142857143\n",
      "有偏估计的标准差： 7.2600091827306485\n",
      "无偏估计的标准差： 7.514823446267479\n",
      "变异系数:  12.05 %\n",
      "极差：27.60\n",
      "标准误：1.94\n"
     ]
    }
   ],
   "source": [
    "# 计算均值\n",
    "w_mean = np.mean(weight)\n",
    "print(w_mean)\n",
    "w_mean1 = weight.mean()\n",
    "# 限定范围内的数值求均值\n",
    "limitedMean = st.tmean(weight, (60, 70))\n",
    "print(limitedMean)\n",
    "sorted_weight = sorted(weight, reverse = False)\n",
    "# 计算中位数\n",
    "# 对称分布比如t分布和正态分布，均值和中位数很接近，偏态分布的两者相差比较大，比如F分布\n",
    "median_weight = np.median(weight); print(median_weight)\n",
    "# 分位数\n",
    "quantiles = np.quantile(weight, [0.1, 0.2, 0.4, 0.6, 0.8, 1])\n",
    "print('学生体重的分位数：', quantiles)\n",
    "'''\n",
    "方差、标准差、极差与标准误\n",
    "'''\n",
    "# 注意方差与方差的无偏估计的差别\n",
    "v = np.var(weight) #有偏估计或样本方差\n",
    "v_unb = st.tvar(weight) #无偏估计\n",
    "print('有偏估计的方差：', v)\n",
    "print('无偏估计的方差：', v_unb)\n",
    "\n",
    "# 注意标准方差与标准方差的无偏估计的差别\n",
    "s = np.std(weight) #有偏估计或样本标准差\n",
    "s_unb = st.tstd(weight) #无偏估计\n",
    "print('有偏估计的标准差：', s)\n",
    "print('无偏估计的标准差：', s_unb)\n",
    "\n",
    "cv = s_unb / w_mean*100 # 变异系数，无量纲，用百分数表示\n",
    "print('变异系数: ', np.round(cv,2), '%')\n",
    "\n",
    "#极差与标准误\n",
    "R_weight = np.max(weight) - np.min(weight)\n",
    "print('极差：%0.2f'%R_weight)\n",
    "sm_weight = st.tstd(weight)/np.sqrt(len(weight)) #标准误：数据标准差（无偏）/数据量**0.5\n",
    "print('标准误：%0.2f'%sm_weight)"
   ]
  },
  {
   "cell_type": "code",
   "execution_count": 29,
   "id": "ce1044e5",
   "metadata": {},
   "outputs": [
    {
     "data": {
      "text/plain": [
       "np.float64(52.70773333333334)"
      ]
     },
     "execution_count": 29,
     "metadata": {},
     "output_type": "execute_result"
    }
   ],
   "source": [
    "np.mean(weight)\n",
    "np.median(weight)\n",
    "np.var(weight)"
   ]
  },
  {
   "cell_type": "code",
   "execution_count": 46,
   "id": "d1d4536b",
   "metadata": {},
   "outputs": [
    {
     "name": "stdout",
     "output_type": "stream",
     "text": [
      "学生数据矩阵：\n",
      " [[148  41  72  78]\n",
      " [139  34  71  76]\n",
      " [160  49  77  86]\n",
      " [149  36  67  79]\n",
      " [159  45  80  86]]\n",
      "\n",
      "学生的平均身高、平均体重、平均胸围和平均坐高: \n",
      " 149.0, 38.7, 72.2, 79.4,\n"
     ]
    }
   ],
   "source": [
    "'''\n",
    "多维数组或矩阵求上述各个统计量\n",
    "从学校抽样30个学生的身高体重胸围和坐高等抽样数据\n",
    "'''\n",
    "\n",
    "#身高\n",
    "x1 = np.array([148, 139, 160, 149, 159, 142, 153, 150, 151, 139,\n",
    "               140, 161, 158, 140, 137, 152, 149, 145, 160, 156,\n",
    "               151, 147, 157, 147, 157, 151, 144, 141, 139, 148])\n",
    "\n",
    "#体重\n",
    "x2 = np.array([41, 34, 49, 36, 45, 31, 43, 43, 42, 31,\n",
    "               29, 47, 49, 33, 31, 35, 47, 35, 47, 44,\n",
    "               42, 38, 39, 30, 48, 36, 36, 30, 32, 38])\n",
    "#胸围\n",
    "x3 = np.array([72, 71, 77, 67, 80, 66, 76, 77, 77, 68,\n",
    "               64, 78, 78, 67, 66, 73, 82, 70, 74, 78,\n",
    "               73, 73, 68, 65, 80, 74, 68, 67, 68, 70])\n",
    "\n",
    "#坐高\n",
    "x4 = np.array([78, 76, 86, 79, 86, 76, 83, 79, 80, 74,\n",
    "               74, 84, 83, 77, 73, 79, 79, 77, 87, 85,\n",
    "               82, 78, 80, 75, 88, 80, 76, 76, 73, 78])\n",
    "\n",
    "'''\n",
    "数据分析等领域一般将数据存储为列向量\n",
    "Numpy, Scipy, Pandas, StatsModels, SKLearn, Tensforflow, Pytorch等基本上都是处理列向量\n",
    "例外是当Numpy求随机变量之间的协方差矩阵时, 则是按照行向量来进行计算\n",
    "'''\n",
    "#合并为矩阵\n",
    "stu_data = np.matrix([x1, x2, x3, x4]).T\n",
    "print('学生数据矩阵：\\n', stu_data[0:5, 0:4]) # [行的范围， 列的范围]\n",
    "#计算均值\n",
    "stu_mean = np.round(np.mean(stu_data, axis=0), 1).ravel() # axis=0表示按列求均值\n",
    "stu_mean[0];stu_mean[1];stu_mean[2];stu_mean[3]\n",
    "print('\\n学生的平均身高、平均体重、平均胸围和平均坐高: \\n %.1f, %.1f, %.1f, %.1f,'\n",
    "      %(stu_mean[0], stu_mean[1], stu_mean[2], stu_mean[3]))"
   ]
  },
  {
   "cell_type": "markdown",
   "id": "ec8b6863",
   "metadata": {},
   "source": [
    "### 1.1.2 关系度量\n",
    "- 方差-协方差矩阵\n",
    "- 相关系数矩阵 Pearson"
   ]
  },
  {
   "cell_type": "code",
   "execution_count": 48,
   "id": "ddf74bb0",
   "metadata": {},
   "outputs": [
    {
     "name": "stdout",
     "output_type": "stream",
     "text": [
      "\n",
      "学生数据的协方差矩阵：\n",
      " [[53.52 40.79 27.59 28.76]\n",
      " [40.79 41.73 29.83 24.36]\n",
      " [27.59 29.83 26.53 17.22]\n",
      " [28.76 24.36 17.22 18.24]]\n",
      "\n",
      "学生数据的相关系数矩阵：\n",
      " [[1.   0.86 0.73 0.92]\n",
      " [0.86 1.   0.9  0.88]\n",
      " [0.73 0.9  1.   0.78]\n",
      " [0.92 0.88 0.78 1.  ]]\n"
     ]
    }
   ],
   "source": [
    "#协方差矩阵：covariance\n",
    "cov_stu = np.cov(stu_data.T)\n",
    "#相关系数矩阵： correlation coefficient\n",
    "rou_stu = np.corrcoef(stu_data.T)\n",
    "print('\\n学生数据的协方差矩阵：\\n', np.round(cov_stu, 2))\n",
    "print('\\n学生数据的相关系数矩阵：\\n', np.round(rou_stu, 2))"
   ]
  },
  {
   "cell_type": "markdown",
   "id": "3d182d65",
   "metadata": {},
   "source": [
    "### 1.1.3 分布性状的度量\n",
    "- 统计量：偏度和丰度\n",
    "  - 偏态（左偏态，右偏态）\n",
    "  - 峰态（……）\n",
    "  - 偏度公式\n",
    "  - 峰度公式"
   ]
  },
  {
   "cell_type": "code",
   "execution_count": 56,
   "id": "573cd428",
   "metadata": {},
   "outputs": [
    {
     "name": "stdout",
     "output_type": "stream",
     "text": [
      "修正后偏度： -0.42995608521222894\n",
      "pandas计算的修正后偏度:  -0.429956085212229\n",
      "无修正偏度： -0.38570725236501335\n",
      "scipy计算的无修正偏度:  -0.38570725236501346\n",
      "scipy计算的修正偏度:  -0.429956085212229\n"
     ]
    }
   ],
   "source": [
    "#偏度计算公式\n",
    "n = len(weight)\n",
    "u3 = np.sum((weight-w_mean)**3) / n\n",
    "#使用总体标准差的无偏估计，计算的偏度是修正后偏度\n",
    "skew1 = ((n**2)*u3)/((n-1)*(n-2)*(s_unb**3))\n",
    "\n",
    "#使用pandas计算修正后偏度\n",
    "pd_weight = pd.Series(weight)\n",
    "skew_pandas = pd_weight.skew()\n",
    "print('修正后偏度：', skew1)\n",
    "print('pandas计算的修正后偏度: ', skew_pandas)\n",
    "\n",
    "#手工计算无修正偏度，使用样本标准差\n",
    "skew2 = np.sum((weight-w_mean)**3) / ((s**3) * n)\n",
    "print('无修正偏度：', skew2)\n",
    "#使用scipy计算偏度\n",
    "skew_scipy = st.skew(weight, bias=True) # bias=True表示不修正，即无修正偏度\n",
    "print('scipy计算的无修正偏度: ', skew_scipy)\n",
    "skew_scipy_bias = st.skew(weight, bias=False) # bias=False表示修正偏度\n",
    "print('scipy计算的修正偏度: ', skew_scipy_bias)"
   ]
  },
  {
   "cell_type": "code",
   "execution_count": 59,
   "id": "ecad2c93",
   "metadata": {},
   "outputs": [
    {
     "name": "stdout",
     "output_type": "stream",
     "text": [
      "pandas计算的峰度:  0.09653947135209195\n",
      "scipy计算的修正峰度:  0.09653947135209329\n",
      "scipy计算的无修正峰度:  -0.3077671538797926\n"
     ]
    }
   ],
   "source": [
    "'''\n",
    "峰度计算公式：\n",
    "- 峰度是描述分布形态的统计量，表示分布的尖锐程度\n",
    "- 峰度的计算公式为：\n",
    "'''\n",
    "\n",
    "#峰度计算\n",
    "kurt_pandas = pd_weight.kurt()\n",
    "print('pandas计算的峰度: ', kurt_pandas)\n",
    "kurt_scipy = st.kurtosis(weight, bias=False) # bias=False表示修正峰度\n",
    "print('scipy计算的修正峰度: ', kurt_scipy)\n",
    "kurt_scipy_bias = st.kurtosis(weight,bias=True) # bias=True表示无修正峰度\n",
    "print('scipy计算的无修正峰度: ', kurt_scipy_bias)"
   ]
  },
  {
   "cell_type": "markdown",
   "id": "d332adbb",
   "metadata": {},
   "source": [
    "### 1.1.4 数据特征的总结"
   ]
  }
 ],
 "metadata": {
  "kernelspec": {
   "display_name": "cs",
   "language": "python",
   "name": "python3"
  },
  "language_info": {
   "codemirror_mode": {
    "name": "ipython",
    "version": 3
   },
   "file_extension": ".py",
   "mimetype": "text/x-python",
   "name": "python",
   "nbconvert_exporter": "python",
   "pygments_lexer": "ipython3",
   "version": "3.11.13"
  }
 },
 "nbformat": 4,
 "nbformat_minor": 5
}
